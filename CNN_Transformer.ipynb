{
 "cells": [
  {
   "cell_type": "code",
   "execution_count": 1,
   "metadata": {},
   "outputs": [
    {
     "name": "stderr",
     "output_type": "stream",
     "text": [
      "2025-03-03 10:34:58.755116: I external/local_xla/xla/tsl/cuda/cudart_stub.cc:32] Could not find cuda drivers on your machine, GPU will not be used.\n",
      "2025-03-03 10:34:58.760828: I external/local_xla/xla/tsl/cuda/cudart_stub.cc:32] Could not find cuda drivers on your machine, GPU will not be used.\n",
      "2025-03-03 10:34:58.778358: E external/local_xla/xla/stream_executor/cuda/cuda_fft.cc:477] Unable to register cuFFT factory: Attempting to register factory for plugin cuFFT when one has already been registered\n",
      "WARNING: All log messages before absl::InitializeLog() is called are written to STDERR\n",
      "E0000 00:00:1741019698.806861 2781353 cuda_dnn.cc:8310] Unable to register cuDNN factory: Attempting to register factory for plugin cuDNN when one has already been registered\n",
      "E0000 00:00:1741019698.815633 2781353 cuda_blas.cc:1418] Unable to register cuBLAS factory: Attempting to register factory for plugin cuBLAS when one has already been registered\n"
     ]
    }
   ],
   "source": [
    "import tensorflow as tf\n",
    "from tensorflow.keras import layers, models\n",
    "from tensorflow.keras.utils import to_categorical\n",
    "import numpy as np\n",
    "import sys\n",
    "import matplotlib.pyplot as plt\n",
    "from sklearn.metrics import confusion_matrix\n",
    "import seaborn as sns"
   ]
  },
  {
   "cell_type": "code",
   "execution_count": 18,
   "metadata": {},
   "outputs": [],
   "source": [
    "input_shape = (100, 100, 1)\n",
    "num_classes = 12\n",
    "num_heads = 4\n",
    "embed_dim = 32\n",
    "ff_dim = 64"
   ]
  },
  {
   "cell_type": "code",
   "execution_count": 3,
   "metadata": {},
   "outputs": [],
   "source": [
    "#Cargar datos de entrenamiento\n",
    "training_set = sys.argv[0] = \"/home/arthur1/Documentos/GitHub/Prueba/Datos/Salida/Datos_entrenamiento_TCGA_matriz.npy\" ### \"Input data npy file\" \n",
    "x_sample = np.load ( training_set )\n",
    "x_train = x_sample.reshape ((x_sample.shape[0], 100, 100,1)) # No. de muestras, Longitud, Ancho, No. de filtros\n",
    "# Cargar etiquetas de los datos de entrenamiento\n",
    "training_label = sys.argv[0] = \"/home/arthur1/Documentos/GitHub/Prueba/Datos/Salida/Datos_entrenamiento_TCGA_etiquetas.npy\" ### \"Input label npy file\" \n",
    "y_label = np.load ( training_label )\n",
    "y_train = to_categorical(y_label, num_classes=12)"
   ]
  },
  {
   "cell_type": "code",
   "execution_count": 4,
   "metadata": {},
   "outputs": [],
   "source": [
    "# Carga de datos de validacion\n",
    "testing_set = sys.argv[0] = \"/home/arthur1/Documentos/GitHub/Prueba/Datos/Salida/Datos_validacion_TCGA_matriz.npy\"\n",
    "test_sample = np.load ( testing_set )\n",
    "x_test = test_sample.reshape ( (test_sample.shape[0], 100, 100, 1) ) # no. of samples, x pixels, y pixels, no. of files\n",
    "\n",
    "# Carga de etiquetas de datos de validacion\n",
    "testing_label = sys.argv[0] = \"/home/arthur1/Documentos/GitHub/Prueba/Datos/Salida/Datos_validacion_TCGA_etiquetas.npy\"\n",
    "test_label = np.load ( testing_label )\n",
    "test_label_compare = test_label\n",
    "y_test = to_categorical (test_label,num_classes=12 )"
   ]
  },
  {
   "cell_type": "code",
   "execution_count": 19,
   "metadata": {},
   "outputs": [],
   "source": [
    "# Extracción de características con CNN\n",
    "cnn_inputs = layers.Input(shape=input_shape)\n",
    "x = layers.Conv2D(32, 3, activation='relu', padding='same')(cnn_inputs)\n",
    "x = layers.MaxPooling2D()(x)\n",
    "x = layers.Conv2D(64, 3, activation='relu', padding='same')(x)\n",
    "x = layers.MaxPooling2D()(x)\n",
    "cnn_outputs = layers.Flatten()(x)\n",
    "cnn_model = models.Model(cnn_inputs, cnn_outputs)"
   ]
  },
  {
   "cell_type": "code",
   "execution_count": 20,
   "metadata": {},
   "outputs": [],
   "source": [
    "# Reformateo para Transformer\n",
    "transformer_inputs = layers.Input(shape=(cnn_model.output_shape[1],))\n",
    "x = layers.Reshape((-1, 1))(transformer_inputs)\n"
   ]
  },
  {
   "cell_type": "code",
   "execution_count": 21,
   "metadata": {},
   "outputs": [],
   "source": [
    "# Transformer\n",
    "attention_output = layers.MultiHeadAttention(num_heads=num_heads, key_dim=embed_dim)(x, x)\n",
    "x = layers.Add()([x, attention_output])\n",
    "x = layers.LayerNormalization(epsilon=1e-6)(x)\n",
    "ffn_output = layers.Dense(ff_dim, activation='relu')(x)\n",
    "ffn_output = layers.Dense(cnn_model.output_shape[1])(ffn_output)\n",
    "x = layers.Add()([x, ffn_output])\n",
    "x = layers.LayerNormalization(epsilon=1e-6)(x)\n",
    "transformer_outputs = layers.GlobalAveragePooling1D()(x)\n",
    "transformer_model = models.Model(transformer_inputs, transformer_outputs)\n"
   ]
  },
  {
   "cell_type": "code",
   "execution_count": 22,
   "metadata": {},
   "outputs": [],
   "source": [
    "# Clasificador\n",
    "inputs = layers.Input(shape=input_shape)\n",
    "cnn_output = cnn_model(inputs)\n",
    "transformer_output = transformer_model(cnn_output)\n",
    "outputs = layers.Dense(num_classes, activation='softmax')(transformer_output)\n",
    "model = models.Model(inputs, outputs)"
   ]
  },
  {
   "cell_type": "code",
   "execution_count": 23,
   "metadata": {},
   "outputs": [],
   "source": [
    "# Compilación\n",
    "model.compile(optimizer='adam',\n",
    "              loss='categorical_crossentropy',\n",
    "              metrics=['accuracy'])"
   ]
  },
  {
   "cell_type": "code",
   "execution_count": 24,
   "metadata": {},
   "outputs": [
    {
     "name": "stdout",
     "output_type": "stream",
     "text": [
      "Epoch 1/10\n"
     ]
    },
    {
     "name": "stderr",
     "output_type": "stream",
     "text": [
      "2025-03-03 10:41:40.175470: W external/local_xla/xla/tsl/framework/cpu_allocator_impl.cc:83] Allocation of 819200000000 exceeds 10% of free system memory.\n",
      "2025-03-03 10:41:40.175689: W tensorflow/core/framework/op_kernel.cc:1841] OP_REQUIRES failed at einsum_op_impl.h:532 : RESOURCE_EXHAUSTED: OOM when allocating tensor with shape[32,4,40000,40000] and type float on /job:localhost/replica:0/task:0/device:CPU:0 by allocator cpu\n"
     ]
    },
    {
     "ename": "ResourceExhaustedError",
     "evalue": "Graph execution error:\n\nDetected at node functional_8_1/functional_7_1/multi_head_attention_2_1/einsum/Einsum defined at (most recent call last):\n  File \"/home/arthur1/.pyenv/versions/3.9.10/lib/python3.9/runpy.py\", line 197, in _run_module_as_main\n\n  File \"/home/arthur1/.pyenv/versions/3.9.10/lib/python3.9/runpy.py\", line 87, in _run_code\n\n  File \"/home/arthur1/Documentos/GitHub/Prueba/.venv/lib/python3.9/site-packages/ipykernel_launcher.py\", line 18, in <module>\n\n  File \"/home/arthur1/Documentos/GitHub/Prueba/.venv/lib/python3.9/site-packages/traitlets/config/application.py\", line 1075, in launch_instance\n\n  File \"/home/arthur1/Documentos/GitHub/Prueba/.venv/lib/python3.9/site-packages/ipykernel/kernelapp.py\", line 739, in start\n\n  File \"/home/arthur1/Documentos/GitHub/Prueba/.venv/lib/python3.9/site-packages/tornado/platform/asyncio.py\", line 205, in start\n\n  File \"/home/arthur1/.pyenv/versions/3.9.10/lib/python3.9/asyncio/base_events.py\", line 596, in run_forever\n\n  File \"/home/arthur1/.pyenv/versions/3.9.10/lib/python3.9/asyncio/base_events.py\", line 1890, in _run_once\n\n  File \"/home/arthur1/.pyenv/versions/3.9.10/lib/python3.9/asyncio/events.py\", line 80, in _run\n\n  File \"/home/arthur1/Documentos/GitHub/Prueba/.venv/lib/python3.9/site-packages/ipykernel/kernelbase.py\", line 545, in dispatch_queue\n\n  File \"/home/arthur1/Documentos/GitHub/Prueba/.venv/lib/python3.9/site-packages/ipykernel/kernelbase.py\", line 534, in process_one\n\n  File \"/home/arthur1/Documentos/GitHub/Prueba/.venv/lib/python3.9/site-packages/ipykernel/kernelbase.py\", line 437, in dispatch_shell\n\n  File \"/home/arthur1/Documentos/GitHub/Prueba/.venv/lib/python3.9/site-packages/ipykernel/ipkernel.py\", line 362, in execute_request\n\n  File \"/home/arthur1/Documentos/GitHub/Prueba/.venv/lib/python3.9/site-packages/ipykernel/kernelbase.py\", line 778, in execute_request\n\n  File \"/home/arthur1/Documentos/GitHub/Prueba/.venv/lib/python3.9/site-packages/ipykernel/ipkernel.py\", line 449, in do_execute\n\n  File \"/home/arthur1/Documentos/GitHub/Prueba/.venv/lib/python3.9/site-packages/ipykernel/zmqshell.py\", line 549, in run_cell\n\n  File \"/home/arthur1/Documentos/GitHub/Prueba/.venv/lib/python3.9/site-packages/IPython/core/interactiveshell.py\", line 3048, in run_cell\n\n  File \"/home/arthur1/Documentos/GitHub/Prueba/.venv/lib/python3.9/site-packages/IPython/core/interactiveshell.py\", line 3103, in _run_cell\n\n  File \"/home/arthur1/Documentos/GitHub/Prueba/.venv/lib/python3.9/site-packages/IPython/core/async_helpers.py\", line 129, in _pseudo_sync_runner\n\n  File \"/home/arthur1/Documentos/GitHub/Prueba/.venv/lib/python3.9/site-packages/IPython/core/interactiveshell.py\", line 3308, in run_cell_async\n\n  File \"/home/arthur1/Documentos/GitHub/Prueba/.venv/lib/python3.9/site-packages/IPython/core/interactiveshell.py\", line 3490, in run_ast_nodes\n\n  File \"/home/arthur1/Documentos/GitHub/Prueba/.venv/lib/python3.9/site-packages/IPython/core/interactiveshell.py\", line 3550, in run_code\n\n  File \"/tmp/ipykernel_2781353/1714238626.py\", line 2, in <module>\n\n  File \"/home/arthur1/Documentos/GitHub/Prueba/.venv/lib/python3.9/site-packages/keras/src/utils/traceback_utils.py\", line 117, in error_handler\n\n  File \"/home/arthur1/Documentos/GitHub/Prueba/.venv/lib/python3.9/site-packages/keras/src/backend/tensorflow/trainer.py\", line 371, in fit\n\n  File \"/home/arthur1/Documentos/GitHub/Prueba/.venv/lib/python3.9/site-packages/keras/src/backend/tensorflow/trainer.py\", line 219, in function\n\n  File \"/home/arthur1/Documentos/GitHub/Prueba/.venv/lib/python3.9/site-packages/keras/src/backend/tensorflow/trainer.py\", line 132, in multi_step_on_iterator\n\n  File \"/home/arthur1/Documentos/GitHub/Prueba/.venv/lib/python3.9/site-packages/keras/src/backend/tensorflow/trainer.py\", line 113, in one_step_on_data\n\n  File \"/home/arthur1/Documentos/GitHub/Prueba/.venv/lib/python3.9/site-packages/keras/src/backend/tensorflow/trainer.py\", line 57, in train_step\n\n  File \"/home/arthur1/Documentos/GitHub/Prueba/.venv/lib/python3.9/site-packages/keras/src/utils/traceback_utils.py\", line 117, in error_handler\n\n  File \"/home/arthur1/Documentos/GitHub/Prueba/.venv/lib/python3.9/site-packages/keras/src/layers/layer.py\", line 908, in __call__\n\n  File \"/home/arthur1/Documentos/GitHub/Prueba/.venv/lib/python3.9/site-packages/keras/src/utils/traceback_utils.py\", line 117, in error_handler\n\n  File \"/home/arthur1/Documentos/GitHub/Prueba/.venv/lib/python3.9/site-packages/keras/src/ops/operation.py\", line 46, in __call__\n\n  File \"/home/arthur1/Documentos/GitHub/Prueba/.venv/lib/python3.9/site-packages/keras/src/utils/traceback_utils.py\", line 156, in error_handler\n\n  File \"/home/arthur1/Documentos/GitHub/Prueba/.venv/lib/python3.9/site-packages/keras/src/models/functional.py\", line 182, in call\n\n  File \"/home/arthur1/Documentos/GitHub/Prueba/.venv/lib/python3.9/site-packages/keras/src/ops/function.py\", line 171, in _run_through_graph\n\n  File \"/home/arthur1/Documentos/GitHub/Prueba/.venv/lib/python3.9/site-packages/keras/src/models/functional.py\", line 637, in call\n\n  File \"/home/arthur1/Documentos/GitHub/Prueba/.venv/lib/python3.9/site-packages/keras/src/utils/traceback_utils.py\", line 117, in error_handler\n\n  File \"/home/arthur1/Documentos/GitHub/Prueba/.venv/lib/python3.9/site-packages/keras/src/layers/layer.py\", line 908, in __call__\n\n  File \"/home/arthur1/Documentos/GitHub/Prueba/.venv/lib/python3.9/site-packages/keras/src/utils/traceback_utils.py\", line 117, in error_handler\n\n  File \"/home/arthur1/Documentos/GitHub/Prueba/.venv/lib/python3.9/site-packages/keras/src/ops/operation.py\", line 46, in __call__\n\n  File \"/home/arthur1/Documentos/GitHub/Prueba/.venv/lib/python3.9/site-packages/keras/src/utils/traceback_utils.py\", line 156, in error_handler\n\n  File \"/home/arthur1/Documentos/GitHub/Prueba/.venv/lib/python3.9/site-packages/keras/src/models/functional.py\", line 182, in call\n\n  File \"/home/arthur1/Documentos/GitHub/Prueba/.venv/lib/python3.9/site-packages/keras/src/ops/function.py\", line 171, in _run_through_graph\n\n  File \"/home/arthur1/Documentos/GitHub/Prueba/.venv/lib/python3.9/site-packages/keras/src/models/functional.py\", line 637, in call\n\n  File \"/home/arthur1/Documentos/GitHub/Prueba/.venv/lib/python3.9/site-packages/keras/src/utils/traceback_utils.py\", line 117, in error_handler\n\n  File \"/home/arthur1/Documentos/GitHub/Prueba/.venv/lib/python3.9/site-packages/keras/src/layers/layer.py\", line 908, in __call__\n\n  File \"/home/arthur1/Documentos/GitHub/Prueba/.venv/lib/python3.9/site-packages/keras/src/utils/traceback_utils.py\", line 117, in error_handler\n\n  File \"/home/arthur1/Documentos/GitHub/Prueba/.venv/lib/python3.9/site-packages/keras/src/ops/operation.py\", line 46, in __call__\n\n  File \"/home/arthur1/Documentos/GitHub/Prueba/.venv/lib/python3.9/site-packages/keras/src/utils/traceback_utils.py\", line 156, in error_handler\n\n  File \"/home/arthur1/Documentos/GitHub/Prueba/.venv/lib/python3.9/site-packages/keras/src/layers/attention/multi_head_attention.py\", line 559, in call\n\n  File \"/home/arthur1/Documentos/GitHub/Prueba/.venv/lib/python3.9/site-packages/keras/src/layers/attention/multi_head_attention.py\", line 474, in _compute_attention\n\n  File \"/home/arthur1/Documentos/GitHub/Prueba/.venv/lib/python3.9/site-packages/keras/src/ops/nn.py\", line 2644, in dot_product_attention\n\n  File \"/home/arthur1/Documentos/GitHub/Prueba/.venv/lib/python3.9/site-packages/keras/src/backend/tensorflow/nn.py\", line 1066, in dot_product_attention\n\n  File \"/home/arthur1/Documentos/GitHub/Prueba/.venv/lib/python3.9/site-packages/keras/src/backend/tensorflow/nn.py\", line 1018, in _dot_product_attention_xla\n\nOOM when allocating tensor with shape[32,4,40000,40000] and type float on /job:localhost/replica:0/task:0/device:CPU:0 by allocator cpu\n\t [[{{node functional_8_1/functional_7_1/multi_head_attention_2_1/einsum/Einsum}}]]\nHint: If you want to see a list of allocated tensors when OOM happens, add report_tensor_allocations_upon_oom to RunOptions for current allocation info. This isn't available when running in Eager mode.\n [Op:__inference_multi_step_on_iterator_13845]",
     "output_type": "error",
     "traceback": [
      "\u001b[0;31m---------------------------------------------------------------------------\u001b[0m",
      "\u001b[0;31mResourceExhaustedError\u001b[0m                    Traceback (most recent call last)",
      "Cell \u001b[0;32mIn[24], line 2\u001b[0m\n\u001b[1;32m      1\u001b[0m \u001b[38;5;66;03m# Entrenamiento\u001b[39;00m\n\u001b[0;32m----> 2\u001b[0m \u001b[43mmodel\u001b[49m\u001b[38;5;241;43m.\u001b[39;49m\u001b[43mfit\u001b[49m\u001b[43m(\u001b[49m\u001b[43mx_train\u001b[49m\u001b[43m,\u001b[49m\u001b[43m \u001b[49m\u001b[43my_train\u001b[49m\u001b[43m,\u001b[49m\u001b[43m \u001b[49m\u001b[43mepochs\u001b[49m\u001b[38;5;241;43m=\u001b[39;49m\u001b[38;5;241;43m10\u001b[39;49m\u001b[43m)\u001b[49m\n",
      "File \u001b[0;32m~/Documentos/GitHub/Prueba/.venv/lib/python3.9/site-packages/keras/src/utils/traceback_utils.py:122\u001b[0m, in \u001b[0;36mfilter_traceback.<locals>.error_handler\u001b[0;34m(*args, **kwargs)\u001b[0m\n\u001b[1;32m    119\u001b[0m     filtered_tb \u001b[38;5;241m=\u001b[39m _process_traceback_frames(e\u001b[38;5;241m.\u001b[39m__traceback__)\n\u001b[1;32m    120\u001b[0m     \u001b[38;5;66;03m# To get the full stack trace, call:\u001b[39;00m\n\u001b[1;32m    121\u001b[0m     \u001b[38;5;66;03m# `keras.config.disable_traceback_filtering()`\u001b[39;00m\n\u001b[0;32m--> 122\u001b[0m     \u001b[38;5;28;01mraise\u001b[39;00m e\u001b[38;5;241m.\u001b[39mwith_traceback(filtered_tb) \u001b[38;5;28;01mfrom\u001b[39;00m\u001b[38;5;250m \u001b[39m\u001b[38;5;28;01mNone\u001b[39;00m\n\u001b[1;32m    123\u001b[0m \u001b[38;5;28;01mfinally\u001b[39;00m:\n\u001b[1;32m    124\u001b[0m     \u001b[38;5;28;01mdel\u001b[39;00m filtered_tb\n",
      "File \u001b[0;32m~/Documentos/GitHub/Prueba/.venv/lib/python3.9/site-packages/tensorflow/python/eager/execute.py:53\u001b[0m, in \u001b[0;36mquick_execute\u001b[0;34m(op_name, num_outputs, inputs, attrs, ctx, name)\u001b[0m\n\u001b[1;32m     51\u001b[0m \u001b[38;5;28;01mtry\u001b[39;00m:\n\u001b[1;32m     52\u001b[0m   ctx\u001b[38;5;241m.\u001b[39mensure_initialized()\n\u001b[0;32m---> 53\u001b[0m   tensors \u001b[38;5;241m=\u001b[39m pywrap_tfe\u001b[38;5;241m.\u001b[39mTFE_Py_Execute(ctx\u001b[38;5;241m.\u001b[39m_handle, device_name, op_name,\n\u001b[1;32m     54\u001b[0m                                       inputs, attrs, num_outputs)\n\u001b[1;32m     55\u001b[0m \u001b[38;5;28;01mexcept\u001b[39;00m core\u001b[38;5;241m.\u001b[39m_NotOkStatusException \u001b[38;5;28;01mas\u001b[39;00m e:\n\u001b[1;32m     56\u001b[0m   \u001b[38;5;28;01mif\u001b[39;00m name \u001b[38;5;129;01mis\u001b[39;00m \u001b[38;5;129;01mnot\u001b[39;00m \u001b[38;5;28;01mNone\u001b[39;00m:\n",
      "\u001b[0;31mResourceExhaustedError\u001b[0m: Graph execution error:\n\nDetected at node functional_8_1/functional_7_1/multi_head_attention_2_1/einsum/Einsum defined at (most recent call last):\n  File \"/home/arthur1/.pyenv/versions/3.9.10/lib/python3.9/runpy.py\", line 197, in _run_module_as_main\n\n  File \"/home/arthur1/.pyenv/versions/3.9.10/lib/python3.9/runpy.py\", line 87, in _run_code\n\n  File \"/home/arthur1/Documentos/GitHub/Prueba/.venv/lib/python3.9/site-packages/ipykernel_launcher.py\", line 18, in <module>\n\n  File \"/home/arthur1/Documentos/GitHub/Prueba/.venv/lib/python3.9/site-packages/traitlets/config/application.py\", line 1075, in launch_instance\n\n  File \"/home/arthur1/Documentos/GitHub/Prueba/.venv/lib/python3.9/site-packages/ipykernel/kernelapp.py\", line 739, in start\n\n  File \"/home/arthur1/Documentos/GitHub/Prueba/.venv/lib/python3.9/site-packages/tornado/platform/asyncio.py\", line 205, in start\n\n  File \"/home/arthur1/.pyenv/versions/3.9.10/lib/python3.9/asyncio/base_events.py\", line 596, in run_forever\n\n  File \"/home/arthur1/.pyenv/versions/3.9.10/lib/python3.9/asyncio/base_events.py\", line 1890, in _run_once\n\n  File \"/home/arthur1/.pyenv/versions/3.9.10/lib/python3.9/asyncio/events.py\", line 80, in _run\n\n  File \"/home/arthur1/Documentos/GitHub/Prueba/.venv/lib/python3.9/site-packages/ipykernel/kernelbase.py\", line 545, in dispatch_queue\n\n  File \"/home/arthur1/Documentos/GitHub/Prueba/.venv/lib/python3.9/site-packages/ipykernel/kernelbase.py\", line 534, in process_one\n\n  File \"/home/arthur1/Documentos/GitHub/Prueba/.venv/lib/python3.9/site-packages/ipykernel/kernelbase.py\", line 437, in dispatch_shell\n\n  File \"/home/arthur1/Documentos/GitHub/Prueba/.venv/lib/python3.9/site-packages/ipykernel/ipkernel.py\", line 362, in execute_request\n\n  File \"/home/arthur1/Documentos/GitHub/Prueba/.venv/lib/python3.9/site-packages/ipykernel/kernelbase.py\", line 778, in execute_request\n\n  File \"/home/arthur1/Documentos/GitHub/Prueba/.venv/lib/python3.9/site-packages/ipykernel/ipkernel.py\", line 449, in do_execute\n\n  File \"/home/arthur1/Documentos/GitHub/Prueba/.venv/lib/python3.9/site-packages/ipykernel/zmqshell.py\", line 549, in run_cell\n\n  File \"/home/arthur1/Documentos/GitHub/Prueba/.venv/lib/python3.9/site-packages/IPython/core/interactiveshell.py\", line 3048, in run_cell\n\n  File \"/home/arthur1/Documentos/GitHub/Prueba/.venv/lib/python3.9/site-packages/IPython/core/interactiveshell.py\", line 3103, in _run_cell\n\n  File \"/home/arthur1/Documentos/GitHub/Prueba/.venv/lib/python3.9/site-packages/IPython/core/async_helpers.py\", line 129, in _pseudo_sync_runner\n\n  File \"/home/arthur1/Documentos/GitHub/Prueba/.venv/lib/python3.9/site-packages/IPython/core/interactiveshell.py\", line 3308, in run_cell_async\n\n  File \"/home/arthur1/Documentos/GitHub/Prueba/.venv/lib/python3.9/site-packages/IPython/core/interactiveshell.py\", line 3490, in run_ast_nodes\n\n  File \"/home/arthur1/Documentos/GitHub/Prueba/.venv/lib/python3.9/site-packages/IPython/core/interactiveshell.py\", line 3550, in run_code\n\n  File \"/tmp/ipykernel_2781353/1714238626.py\", line 2, in <module>\n\n  File \"/home/arthur1/Documentos/GitHub/Prueba/.venv/lib/python3.9/site-packages/keras/src/utils/traceback_utils.py\", line 117, in error_handler\n\n  File \"/home/arthur1/Documentos/GitHub/Prueba/.venv/lib/python3.9/site-packages/keras/src/backend/tensorflow/trainer.py\", line 371, in fit\n\n  File \"/home/arthur1/Documentos/GitHub/Prueba/.venv/lib/python3.9/site-packages/keras/src/backend/tensorflow/trainer.py\", line 219, in function\n\n  File \"/home/arthur1/Documentos/GitHub/Prueba/.venv/lib/python3.9/site-packages/keras/src/backend/tensorflow/trainer.py\", line 132, in multi_step_on_iterator\n\n  File \"/home/arthur1/Documentos/GitHub/Prueba/.venv/lib/python3.9/site-packages/keras/src/backend/tensorflow/trainer.py\", line 113, in one_step_on_data\n\n  File \"/home/arthur1/Documentos/GitHub/Prueba/.venv/lib/python3.9/site-packages/keras/src/backend/tensorflow/trainer.py\", line 57, in train_step\n\n  File \"/home/arthur1/Documentos/GitHub/Prueba/.venv/lib/python3.9/site-packages/keras/src/utils/traceback_utils.py\", line 117, in error_handler\n\n  File \"/home/arthur1/Documentos/GitHub/Prueba/.venv/lib/python3.9/site-packages/keras/src/layers/layer.py\", line 908, in __call__\n\n  File \"/home/arthur1/Documentos/GitHub/Prueba/.venv/lib/python3.9/site-packages/keras/src/utils/traceback_utils.py\", line 117, in error_handler\n\n  File \"/home/arthur1/Documentos/GitHub/Prueba/.venv/lib/python3.9/site-packages/keras/src/ops/operation.py\", line 46, in __call__\n\n  File \"/home/arthur1/Documentos/GitHub/Prueba/.venv/lib/python3.9/site-packages/keras/src/utils/traceback_utils.py\", line 156, in error_handler\n\n  File \"/home/arthur1/Documentos/GitHub/Prueba/.venv/lib/python3.9/site-packages/keras/src/models/functional.py\", line 182, in call\n\n  File \"/home/arthur1/Documentos/GitHub/Prueba/.venv/lib/python3.9/site-packages/keras/src/ops/function.py\", line 171, in _run_through_graph\n\n  File \"/home/arthur1/Documentos/GitHub/Prueba/.venv/lib/python3.9/site-packages/keras/src/models/functional.py\", line 637, in call\n\n  File \"/home/arthur1/Documentos/GitHub/Prueba/.venv/lib/python3.9/site-packages/keras/src/utils/traceback_utils.py\", line 117, in error_handler\n\n  File \"/home/arthur1/Documentos/GitHub/Prueba/.venv/lib/python3.9/site-packages/keras/src/layers/layer.py\", line 908, in __call__\n\n  File \"/home/arthur1/Documentos/GitHub/Prueba/.venv/lib/python3.9/site-packages/keras/src/utils/traceback_utils.py\", line 117, in error_handler\n\n  File \"/home/arthur1/Documentos/GitHub/Prueba/.venv/lib/python3.9/site-packages/keras/src/ops/operation.py\", line 46, in __call__\n\n  File \"/home/arthur1/Documentos/GitHub/Prueba/.venv/lib/python3.9/site-packages/keras/src/utils/traceback_utils.py\", line 156, in error_handler\n\n  File \"/home/arthur1/Documentos/GitHub/Prueba/.venv/lib/python3.9/site-packages/keras/src/models/functional.py\", line 182, in call\n\n  File \"/home/arthur1/Documentos/GitHub/Prueba/.venv/lib/python3.9/site-packages/keras/src/ops/function.py\", line 171, in _run_through_graph\n\n  File \"/home/arthur1/Documentos/GitHub/Prueba/.venv/lib/python3.9/site-packages/keras/src/models/functional.py\", line 637, in call\n\n  File \"/home/arthur1/Documentos/GitHub/Prueba/.venv/lib/python3.9/site-packages/keras/src/utils/traceback_utils.py\", line 117, in error_handler\n\n  File \"/home/arthur1/Documentos/GitHub/Prueba/.venv/lib/python3.9/site-packages/keras/src/layers/layer.py\", line 908, in __call__\n\n  File \"/home/arthur1/Documentos/GitHub/Prueba/.venv/lib/python3.9/site-packages/keras/src/utils/traceback_utils.py\", line 117, in error_handler\n\n  File \"/home/arthur1/Documentos/GitHub/Prueba/.venv/lib/python3.9/site-packages/keras/src/ops/operation.py\", line 46, in __call__\n\n  File \"/home/arthur1/Documentos/GitHub/Prueba/.venv/lib/python3.9/site-packages/keras/src/utils/traceback_utils.py\", line 156, in error_handler\n\n  File \"/home/arthur1/Documentos/GitHub/Prueba/.venv/lib/python3.9/site-packages/keras/src/layers/attention/multi_head_attention.py\", line 559, in call\n\n  File \"/home/arthur1/Documentos/GitHub/Prueba/.venv/lib/python3.9/site-packages/keras/src/layers/attention/multi_head_attention.py\", line 474, in _compute_attention\n\n  File \"/home/arthur1/Documentos/GitHub/Prueba/.venv/lib/python3.9/site-packages/keras/src/ops/nn.py\", line 2644, in dot_product_attention\n\n  File \"/home/arthur1/Documentos/GitHub/Prueba/.venv/lib/python3.9/site-packages/keras/src/backend/tensorflow/nn.py\", line 1066, in dot_product_attention\n\n  File \"/home/arthur1/Documentos/GitHub/Prueba/.venv/lib/python3.9/site-packages/keras/src/backend/tensorflow/nn.py\", line 1018, in _dot_product_attention_xla\n\nOOM when allocating tensor with shape[32,4,40000,40000] and type float on /job:localhost/replica:0/task:0/device:CPU:0 by allocator cpu\n\t [[{{node functional_8_1/functional_7_1/multi_head_attention_2_1/einsum/Einsum}}]]\nHint: If you want to see a list of allocated tensors when OOM happens, add report_tensor_allocations_upon_oom to RunOptions for current allocation info. This isn't available when running in Eager mode.\n [Op:__inference_multi_step_on_iterator_13845]"
     ]
    }
   ],
   "source": [
    "# Entrenamiento\n",
    "model.fit(x_train, y_train, epochs=10)"
   ]
  }
 ],
 "metadata": {
  "kernelspec": {
   "display_name": ".venv",
   "language": "python",
   "name": "python3"
  },
  "language_info": {
   "codemirror_mode": {
    "name": "ipython",
    "version": 3
   },
   "file_extension": ".py",
   "mimetype": "text/x-python",
   "name": "python",
   "nbconvert_exporter": "python",
   "pygments_lexer": "ipython3",
   "version": "3.9.10"
  }
 },
 "nbformat": 4,
 "nbformat_minor": 2
}
