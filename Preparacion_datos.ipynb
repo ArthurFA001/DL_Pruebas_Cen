{
 "cells": [
  {
   "cell_type": "code",
   "execution_count": 1,
   "metadata": {},
   "outputs": [],
   "source": [
    "import numpy as np\n",
    "import os\n",
    "import random\n",
    "from datetime import datetime as DT\n",
    "import sys"
   ]
  },
  {
   "cell_type": "code",
   "execution_count": 2,
   "metadata": {},
   "outputs": [],
   "source": [
    "# Para datos entrenamiento\n",
    "path = sys.argv[0] = \"/home/arthur1/Documentos/GitHub/Prueba/Datos/training_samples\"\n",
    "dirs = os.listdir(path)\n",
    "\n",
    "output_file_name=sys.argv[0] = \"/home/arthur1/Documentos/GitHub/Prueba/Datos/Salida/Datos_entrenamiento_TCGA\""
   ]
  },
  {
   "cell_type": "code",
   "execution_count": 3,
   "metadata": {},
   "outputs": [],
   "source": [
    "# Para datos validacion \n",
    "path = sys.argv[0] = \"/home/arthur1/Documentos/GitHub/Prueba/Datos/validation_samples\"\n",
    "dirs = os.listdir(path)\n",
    "\n",
    "output_file_name=sys.argv[0] = \"/home/arthur1/Documentos/GitHub/Prueba/Datos/Salida/Datos_validacion_TCGA\""
   ]
  },
  {
   "cell_type": "code",
   "execution_count": 4,
   "metadata": {},
   "outputs": [
    {
     "name": "stdout",
     "output_type": "stream",
     "text": [
      "2025310167907128\n"
     ]
    }
   ],
   "source": [
    "time = DT.utcnow()\n",
    "seed = str(time.year) + str(time.month) + str(time.day) + str(time.hour) + str(time.minute) + str(time.microsecond)\n",
    "random.seed(seed)\n",
    "random.shuffle(dirs)  # shuffle input order\n",
    "print (seed)\n",
    "\n",
    "sample_titles = np.array ( dirs )\n",
    "samples = []\n",
    "labels = []\n",
    "elements = []\n",
    "O_names = []"
   ]
  },
  {
   "cell_type": "code",
   "execution_count": 5,
   "metadata": {},
   "outputs": [],
   "source": [
    "for name in dirs:\n",
    "    O_names.append ( name )\n",
    "    data = name.split('-')\n",
    "    labels.append ( data[2] )\n",
    "    elements_name = []\n",
    "    with open ( path+\"/\"+name ) as file:\n",
    "        for line in file:\n",
    "            line = line.strip().split()\n",
    "            elements_name.append(line)\n",
    "    elements.append(elements_name)"
   ]
  },
  {
   "cell_type": "code",
   "execution_count": 17,
   "metadata": {},
   "outputs": [
    {
     "name": "stdout",
     "output_type": "stream",
     "text": [
      "(4908, 100, 100) (4908,)\n"
     ]
    }
   ],
   "source": [
    "x_samples = np.array ( elements ).astype ( np.float32 )\n",
    "y_labels = np.array (labels).astype ( np.int32 )\n",
    "np.save ( output_file_name+\"_matriz.npy\", x_samples )\n",
    "np.save ( output_file_name+\"_etiquetas.npy\", y_labels )\n",
    "np.save ( output_file_name+\"_titulos.npy\", sample_titles )\n",
    "\n",
    "print ( x_samples.shape, y_labels.shape)"
   ]
  }
 ],
 "metadata": {
  "kernelspec": {
   "display_name": ".venv",
   "language": "python",
   "name": "python3"
  },
  "language_info": {
   "codemirror_mode": {
    "name": "ipython",
    "version": 3
   },
   "file_extension": ".py",
   "mimetype": "text/x-python",
   "name": "python",
   "nbconvert_exporter": "python",
   "pygments_lexer": "ipython3",
   "version": "3.9.10"
  }
 },
 "nbformat": 4,
 "nbformat_minor": 2
}
