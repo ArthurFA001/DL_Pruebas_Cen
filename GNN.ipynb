{
 "cells": [
  {
   "cell_type": "code",
   "execution_count": 7,
   "metadata": {},
   "outputs": [
    {
     "ename": "ImportError",
     "evalue": "Package tensorflow_gnn requires tf.keras to be Keras version 2 but got version 3.8.0. For open-source TensorFlow 2.16 and above, set the environment variable TF_USE_LEGACY_KERAS=1 to fix. For more information, see https://github.com/tensorflow/gnn/blob/main/tensorflow_gnn/docs/guide/keras_version.md",
     "output_type": "error",
     "traceback": [
      "\u001b[0;31m---------------------------------------------------------------------------\u001b[0m",
      "\u001b[0;31mImportError\u001b[0m                               Traceback (most recent call last)",
      "Cell \u001b[0;32mIn[7], line 2\u001b[0m\n\u001b[1;32m      1\u001b[0m \u001b[38;5;28;01mimport\u001b[39;00m\u001b[38;5;250m \u001b[39m\u001b[38;5;21;01mtensorflow\u001b[39;00m\u001b[38;5;250m \u001b[39m\u001b[38;5;28;01mas\u001b[39;00m\u001b[38;5;250m \u001b[39m\u001b[38;5;21;01mtf\u001b[39;00m\n\u001b[0;32m----> 2\u001b[0m \u001b[38;5;28;01mimport\u001b[39;00m\u001b[38;5;250m \u001b[39m\u001b[38;5;21;01mtensorflow_gnn\u001b[39;00m\u001b[38;5;250m \u001b[39m\u001b[38;5;28;01mas\u001b[39;00m\u001b[38;5;250m \u001b[39m\u001b[38;5;21;01mtfgnn\u001b[39;00m\n\u001b[1;32m      4\u001b[0m \u001b[38;5;66;03m# Crea un grafo simple con 5 nodos y 6 aristas\u001b[39;00m\n\u001b[1;32m      5\u001b[0m graph \u001b[38;5;241m=\u001b[39m tfgnn\u001b[38;5;241m.\u001b[39mGraphTensor\u001b[38;5;241m.\u001b[39mfrom_pieces(\n\u001b[1;32m      6\u001b[0m     node_sets\u001b[38;5;241m=\u001b[39m{\n\u001b[1;32m      7\u001b[0m         \u001b[38;5;124m\"\u001b[39m\u001b[38;5;124mnodes\u001b[39m\u001b[38;5;124m\"\u001b[39m: tfgnn\u001b[38;5;241m.\u001b[39mNodeSet\u001b[38;5;241m.\u001b[39mfrom_fields(\n\u001b[0;32m   (...)\u001b[0m\n\u001b[1;32m     18\u001b[0m     }\n\u001b[1;32m     19\u001b[0m )\n",
      "File \u001b[0;32m~/Documentos/GitHub/Prueba/.venv/lib/python3.9/site-packages/tensorflow_gnn/__init__.py:45\u001b[0m\n\u001b[1;32m     36\u001b[0m     \u001b[38;5;28;01mif\u001b[39;00m keras_version\u001b[38;5;241m.\u001b[39mstartswith(\u001b[38;5;124m\"\u001b[39m\u001b[38;5;124m3.\u001b[39m\u001b[38;5;124m\"\u001b[39m):\n\u001b[1;32m     37\u001b[0m       \u001b[38;5;28;01mraise\u001b[39;00m \u001b[38;5;167;01mImportError\u001b[39;00m(\n\u001b[1;32m     38\u001b[0m           \u001b[38;5;124m\"\u001b[39m\u001b[38;5;124mPackage tensorflow_gnn requires tf.keras to be Keras version 2 \u001b[39m\u001b[38;5;124m\"\u001b[39m\n\u001b[1;32m     39\u001b[0m           \u001b[38;5;124mf\u001b[39m\u001b[38;5;124m\"\u001b[39m\u001b[38;5;124mbut got version \u001b[39m\u001b[38;5;132;01m{\u001b[39;00mkeras_version\u001b[38;5;132;01m}\u001b[39;00m\u001b[38;5;124m. \u001b[39m\u001b[38;5;124m\"\u001b[39m\n\u001b[0;32m   (...)\u001b[0m\n\u001b[1;32m     43\u001b[0m           \u001b[38;5;124m\"\u001b[39m\u001b[38;5;124mhttps://github.com/tensorflow/gnn/blob/main/tensorflow_gnn/docs/guide/keras_version.md\u001b[39m\u001b[38;5;124m\"\u001b[39m\n\u001b[1;32m     44\u001b[0m       )\n\u001b[0;32m---> 45\u001b[0m \u001b[43m_check_keras_version\u001b[49m\u001b[43m(\u001b[49m\u001b[43m)\u001b[49m\n\u001b[1;32m     46\u001b[0m \u001b[38;5;28;01mdel\u001b[39;00m _check_keras_version\n\u001b[1;32m     47\u001b[0m \u001b[38;5;66;03m# pylint: enable=g-statement-before-imports\u001b[39;00m\n\u001b[1;32m     48\u001b[0m \n\u001b[1;32m     49\u001b[0m \u001b[38;5;66;03m# pylint: disable=line-too-long\u001b[39;00m\n",
      "File \u001b[0;32m~/Documentos/GitHub/Prueba/.venv/lib/python3.9/site-packages/tensorflow_gnn/__init__.py:37\u001b[0m, in \u001b[0;36m_check_keras_version\u001b[0;34m()\u001b[0m\n\u001b[1;32m     35\u001b[0m keras_version \u001b[38;5;241m=\u001b[39m keras_version_fn()\n\u001b[1;32m     36\u001b[0m \u001b[38;5;28;01mif\u001b[39;00m keras_version\u001b[38;5;241m.\u001b[39mstartswith(\u001b[38;5;124m\"\u001b[39m\u001b[38;5;124m3.\u001b[39m\u001b[38;5;124m\"\u001b[39m):\n\u001b[0;32m---> 37\u001b[0m   \u001b[38;5;28;01mraise\u001b[39;00m \u001b[38;5;167;01mImportError\u001b[39;00m(\n\u001b[1;32m     38\u001b[0m       \u001b[38;5;124m\"\u001b[39m\u001b[38;5;124mPackage tensorflow_gnn requires tf.keras to be Keras version 2 \u001b[39m\u001b[38;5;124m\"\u001b[39m\n\u001b[1;32m     39\u001b[0m       \u001b[38;5;124mf\u001b[39m\u001b[38;5;124m\"\u001b[39m\u001b[38;5;124mbut got version \u001b[39m\u001b[38;5;132;01m{\u001b[39;00mkeras_version\u001b[38;5;132;01m}\u001b[39;00m\u001b[38;5;124m. \u001b[39m\u001b[38;5;124m\"\u001b[39m\n\u001b[1;32m     40\u001b[0m       \u001b[38;5;124m\"\u001b[39m\u001b[38;5;124mFor open-source TensorFlow 2.16 and above, \u001b[39m\u001b[38;5;124m\"\u001b[39m\n\u001b[1;32m     41\u001b[0m       \u001b[38;5;124m\"\u001b[39m\u001b[38;5;124mset the environment variable TF_USE_LEGACY_KERAS=1 to fix. \u001b[39m\u001b[38;5;124m\"\u001b[39m\n\u001b[1;32m     42\u001b[0m       \u001b[38;5;124m\"\u001b[39m\u001b[38;5;124mFor more information, see \u001b[39m\u001b[38;5;124m\"\u001b[39m\n\u001b[1;32m     43\u001b[0m       \u001b[38;5;124m\"\u001b[39m\u001b[38;5;124mhttps://github.com/tensorflow/gnn/blob/main/tensorflow_gnn/docs/guide/keras_version.md\u001b[39m\u001b[38;5;124m\"\u001b[39m\n\u001b[1;32m     44\u001b[0m   )\n",
      "\u001b[0;31mImportError\u001b[0m: Package tensorflow_gnn requires tf.keras to be Keras version 2 but got version 3.8.0. For open-source TensorFlow 2.16 and above, set the environment variable TF_USE_LEGACY_KERAS=1 to fix. For more information, see https://github.com/tensorflow/gnn/blob/main/tensorflow_gnn/docs/guide/keras_version.md"
     ]
    }
   ],
   "source": [
    "import tensorflow as tf\n",
    "import tensorflow_gnn as tfgnn\n",
    "\n",
    "# Crea un grafo simple con 5 nodos y 6 aristas\n",
    "graph = tfgnn.GraphTensor.from_pieces(\n",
    "    node_sets={\n",
    "        \"nodes\": tfgnn.NodeSet.from_fields(\n",
    "            features={\n",
    "                \"features\": tf.constant([[1.0, 2.0], [3.0, 4.0], [5.0, 6.0], [7.0, 8.0], [9.0, 10.0]])\n",
    "            }\n",
    "        )\n",
    "    },\n",
    "    edge_sets={\n",
    "        \"edges\": tfgnn.EdgeSet.from_fields(\n",
    "            source=(\"nodes\", tf.constant([0, 1, 2, 3, 4, 0])),\n",
    "            target=(\"nodes\", tf.constant([1, 2, 3, 4, 0, 2])),\n",
    "        )\n",
    "    }\n",
    ")\n",
    "\n",
    "# Etiquetas de ejemplo para la clasificación de nodos\n",
    "labels = tf.constant([0, 1, 0, 1, 0])"
   ]
  }
 ],
 "metadata": {
  "kernelspec": {
   "display_name": ".venv",
   "language": "python",
   "name": "python3"
  },
  "language_info": {
   "codemirror_mode": {
    "name": "ipython",
    "version": 3
   },
   "file_extension": ".py",
   "mimetype": "text/x-python",
   "name": "python",
   "nbconvert_exporter": "python",
   "pygments_lexer": "ipython3",
   "version": "3.9.10"
  }
 },
 "nbformat": 4,
 "nbformat_minor": 2
}
